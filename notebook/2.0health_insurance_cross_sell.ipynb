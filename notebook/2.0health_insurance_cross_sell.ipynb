{
 "cells": [
  {
   "cell_type": "markdown",
   "id": "2b88b8f0",
   "metadata": {},
   "source": [
    "##  0.0. BASE"
   ]
  },
  {
   "cell_type": "markdown",
   "id": "868466fe",
   "metadata": {},
   "source": [
    "### 0.1 DOWNLOAD"
   ]
  },
  {
   "cell_type": "code",
   "execution_count": 1,
   "id": "883464e2",
   "metadata": {
    "ExecuteTime": {
     "end_time": "2022-05-14T22:28:23.607625Z",
     "start_time": "2022-05-14T22:28:21.786589Z"
    }
   },
   "outputs": [
    {
     "name": "stdout",
     "output_type": "stream",
     "text": [
      "Requirement already satisfied: jupyterlab in /home/arquinho/anaconda3/lib/python3.9/site-packages (3.2.1)\n",
      "Requirement already satisfied: scikit-plot in /home/arquinho/anaconda3/lib/python3.9/site-packages (0.3.7)\n",
      "Requirement already satisfied: jupyterlab-server~=2.3 in /home/arquinho/anaconda3/lib/python3.9/site-packages (from jupyterlab) (2.8.2)\n",
      "Requirement already satisfied: jupyter-core in /home/arquinho/anaconda3/lib/python3.9/site-packages (from jupyterlab) (4.8.1)\n",
      "Requirement already satisfied: jupyter-server~=1.4 in /home/arquinho/anaconda3/lib/python3.9/site-packages (from jupyterlab) (1.4.1)\n",
      "Requirement already satisfied: tornado>=6.1.0 in /home/arquinho/anaconda3/lib/python3.9/site-packages (from jupyterlab) (6.1)\n",
      "Requirement already satisfied: packaging in /home/arquinho/anaconda3/lib/python3.9/site-packages (from jupyterlab) (21.0)\n",
      "Requirement already satisfied: ipython in /home/arquinho/anaconda3/lib/python3.9/site-packages (from jupyterlab) (7.29.0)\n",
      "Requirement already satisfied: jinja2>=2.1 in /home/arquinho/anaconda3/lib/python3.9/site-packages (from jupyterlab) (2.11.3)\n",
      "Requirement already satisfied: nbclassic~=0.2 in /home/arquinho/anaconda3/lib/python3.9/site-packages (from jupyterlab) (0.2.6)\n",
      "Requirement already satisfied: joblib>=0.10 in /home/arquinho/anaconda3/lib/python3.9/site-packages (from scikit-plot) (1.1.0)\n",
      "Requirement already satisfied: scipy>=0.9 in /home/arquinho/anaconda3/lib/python3.9/site-packages (from scikit-plot) (1.7.1)\n",
      "Requirement already satisfied: matplotlib>=1.4.0 in /home/arquinho/anaconda3/lib/python3.9/site-packages (from scikit-plot) (3.4.3)\n",
      "Requirement already satisfied: scikit-learn>=0.18 in /home/arquinho/anaconda3/lib/python3.9/site-packages (from scikit-plot) (0.24.2)\n",
      "Requirement already satisfied: MarkupSafe>=0.23 in /home/arquinho/anaconda3/lib/python3.9/site-packages (from jinja2>=2.1->jupyterlab) (1.1.1)\n",
      "Requirement already satisfied: traitlets>=4.2.1 in /home/arquinho/anaconda3/lib/python3.9/site-packages (from jupyter-server~=1.4->jupyterlab) (5.1.0)\n",
      "Requirement already satisfied: ipython-genutils in /home/arquinho/anaconda3/lib/python3.9/site-packages (from jupyter-server~=1.4->jupyterlab) (0.2.0)\n",
      "Requirement already satisfied: Send2Trash in /home/arquinho/anaconda3/lib/python3.9/site-packages (from jupyter-server~=1.4->jupyterlab) (1.8.0)\n",
      "Requirement already satisfied: anyio>=2.0.2 in /home/arquinho/anaconda3/lib/python3.9/site-packages (from jupyter-server~=1.4->jupyterlab) (2.2.0)\n",
      "Requirement already satisfied: nbconvert in /home/arquinho/anaconda3/lib/python3.9/site-packages (from jupyter-server~=1.4->jupyterlab) (6.1.0)\n",
      "Requirement already satisfied: prometheus-client in /home/arquinho/anaconda3/lib/python3.9/site-packages (from jupyter-server~=1.4->jupyterlab) (0.11.0)\n",
      "Requirement already satisfied: nbformat in /home/arquinho/anaconda3/lib/python3.9/site-packages (from jupyter-server~=1.4->jupyterlab) (5.1.3)\n",
      "Requirement already satisfied: terminado>=0.8.3 in /home/arquinho/anaconda3/lib/python3.9/site-packages (from jupyter-server~=1.4->jupyterlab) (0.9.4)\n",
      "Requirement already satisfied: pyzmq>=17 in /home/arquinho/anaconda3/lib/python3.9/site-packages (from jupyter-server~=1.4->jupyterlab) (22.2.1)\n",
      "Requirement already satisfied: jupyter-client>=6.1.1 in /home/arquinho/anaconda3/lib/python3.9/site-packages (from jupyter-server~=1.4->jupyterlab) (6.1.12)\n",
      "Requirement already satisfied: idna>=2.8 in /home/arquinho/anaconda3/lib/python3.9/site-packages (from anyio>=2.0.2->jupyter-server~=1.4->jupyterlab) (3.2)\n",
      "Requirement already satisfied: sniffio>=1.1 in /home/arquinho/anaconda3/lib/python3.9/site-packages (from anyio>=2.0.2->jupyter-server~=1.4->jupyterlab) (1.2.0)\n",
      "Requirement already satisfied: python-dateutil>=2.1 in /home/arquinho/anaconda3/lib/python3.9/site-packages (from jupyter-client>=6.1.1->jupyter-server~=1.4->jupyterlab) (2.8.2)\n",
      "Requirement already satisfied: entrypoints>=0.2.2 in /home/arquinho/anaconda3/lib/python3.9/site-packages (from jupyterlab-server~=2.3->jupyterlab) (0.3)\n",
      "Requirement already satisfied: babel in /home/arquinho/anaconda3/lib/python3.9/site-packages (from jupyterlab-server~=2.3->jupyterlab) (2.9.1)\n",
      "Requirement already satisfied: json5 in /home/arquinho/anaconda3/lib/python3.9/site-packages (from jupyterlab-server~=2.3->jupyterlab) (0.9.6)\n",
      "Requirement already satisfied: requests in /home/arquinho/anaconda3/lib/python3.9/site-packages (from jupyterlab-server~=2.3->jupyterlab) (2.26.0)\n",
      "Requirement already satisfied: jsonschema>=3.0.1 in /home/arquinho/anaconda3/lib/python3.9/site-packages (from jupyterlab-server~=2.3->jupyterlab) (3.2.0)\n",
      "Requirement already satisfied: six>=1.11.0 in /home/arquinho/anaconda3/lib/python3.9/site-packages (from jsonschema>=3.0.1->jupyterlab-server~=2.3->jupyterlab) (1.16.0)\n",
      "Requirement already satisfied: setuptools in /home/arquinho/anaconda3/lib/python3.9/site-packages (from jsonschema>=3.0.1->jupyterlab-server~=2.3->jupyterlab) (58.0.4)\n",
      "Requirement already satisfied: pyrsistent>=0.14.0 in /home/arquinho/anaconda3/lib/python3.9/site-packages (from jsonschema>=3.0.1->jupyterlab-server~=2.3->jupyterlab) (0.18.0)\n",
      "Requirement already satisfied: attrs>=17.4.0 in /home/arquinho/anaconda3/lib/python3.9/site-packages (from jsonschema>=3.0.1->jupyterlab-server~=2.3->jupyterlab) (21.2.0)\n",
      "Requirement already satisfied: numpy>=1.16 in /home/arquinho/anaconda3/lib/python3.9/site-packages (from matplotlib>=1.4.0->scikit-plot) (1.20.3)\n",
      "Requirement already satisfied: pyparsing>=2.2.1 in /home/arquinho/anaconda3/lib/python3.9/site-packages (from matplotlib>=1.4.0->scikit-plot) (3.0.4)\n",
      "Requirement already satisfied: pillow>=6.2.0 in /home/arquinho/anaconda3/lib/python3.9/site-packages (from matplotlib>=1.4.0->scikit-plot) (8.4.0)\n",
      "Requirement already satisfied: cycler>=0.10 in /home/arquinho/anaconda3/lib/python3.9/site-packages (from matplotlib>=1.4.0->scikit-plot) (0.10.0)\n",
      "Requirement already satisfied: kiwisolver>=1.0.1 in /home/arquinho/anaconda3/lib/python3.9/site-packages (from matplotlib>=1.4.0->scikit-plot) (1.3.1)\n",
      "Requirement already satisfied: notebook<7 in /home/arquinho/anaconda3/lib/python3.9/site-packages (from nbclassic~=0.2->jupyterlab) (6.4.5)\n",
      "Requirement already satisfied: ipykernel in /home/arquinho/anaconda3/lib/python3.9/site-packages (from notebook<7->nbclassic~=0.2->jupyterlab) (6.4.1)\n",
      "Requirement already satisfied: argon2-cffi in /home/arquinho/anaconda3/lib/python3.9/site-packages (from notebook<7->nbclassic~=0.2->jupyterlab) (20.1.0)\n",
      "Requirement already satisfied: threadpoolctl>=2.0.0 in /home/arquinho/anaconda3/lib/python3.9/site-packages (from scikit-learn>=0.18->scikit-plot) (2.2.0)\n",
      "Requirement already satisfied: ptyprocess in /home/arquinho/anaconda3/lib/python3.9/site-packages (from terminado>=0.8.3->jupyter-server~=1.4->jupyterlab) (0.7.0)\n",
      "Requirement already satisfied: cffi>=1.0.0 in /home/arquinho/anaconda3/lib/python3.9/site-packages (from argon2-cffi->notebook<7->nbclassic~=0.2->jupyterlab) (1.14.6)\n",
      "Requirement already satisfied: pycparser in /home/arquinho/anaconda3/lib/python3.9/site-packages (from cffi>=1.0.0->argon2-cffi->notebook<7->nbclassic~=0.2->jupyterlab) (2.20)\n",
      "Requirement already satisfied: pytz>=2015.7 in /home/arquinho/anaconda3/lib/python3.9/site-packages (from babel->jupyterlab-server~=2.3->jupyterlab) (2021.3)\n",
      "Requirement already satisfied: matplotlib-inline<0.2.0,>=0.1.0 in /home/arquinho/anaconda3/lib/python3.9/site-packages (from ipykernel->notebook<7->nbclassic~=0.2->jupyterlab) (0.1.2)\n",
      "Requirement already satisfied: debugpy<2.0,>=1.0.0 in /home/arquinho/anaconda3/lib/python3.9/site-packages (from ipykernel->notebook<7->nbclassic~=0.2->jupyterlab) (1.4.1)\n",
      "Requirement already satisfied: backcall in /home/arquinho/anaconda3/lib/python3.9/site-packages (from ipython->jupyterlab) (0.2.0)\n",
      "Requirement already satisfied: pygments in /home/arquinho/anaconda3/lib/python3.9/site-packages (from ipython->jupyterlab) (2.10.0)\n",
      "Requirement already satisfied: pexpect>4.3 in /home/arquinho/anaconda3/lib/python3.9/site-packages (from ipython->jupyterlab) (4.8.0)\n",
      "Requirement already satisfied: prompt-toolkit!=3.0.0,!=3.0.1,<3.1.0,>=2.0.0 in /home/arquinho/anaconda3/lib/python3.9/site-packages (from ipython->jupyterlab) (3.0.20)\n",
      "Requirement already satisfied: jedi>=0.16 in /home/arquinho/anaconda3/lib/python3.9/site-packages (from ipython->jupyterlab) (0.18.0)\n",
      "Requirement already satisfied: decorator in /home/arquinho/anaconda3/lib/python3.9/site-packages (from ipython->jupyterlab) (5.1.0)\n",
      "Requirement already satisfied: pickleshare in /home/arquinho/anaconda3/lib/python3.9/site-packages (from ipython->jupyterlab) (0.7.5)\n",
      "Requirement already satisfied: parso<0.9.0,>=0.8.0 in /home/arquinho/anaconda3/lib/python3.9/site-packages (from jedi>=0.16->ipython->jupyterlab) (0.8.2)\n",
      "Requirement already satisfied: wcwidth in /home/arquinho/anaconda3/lib/python3.9/site-packages (from prompt-toolkit!=3.0.0,!=3.0.1,<3.1.0,>=2.0.0->ipython->jupyterlab) (0.2.5)\n"
     ]
    },
    {
     "name": "stdout",
     "output_type": "stream",
     "text": [
      "Requirement already satisfied: pandocfilters>=1.4.1 in /home/arquinho/anaconda3/lib/python3.9/site-packages (from nbconvert->jupyter-server~=1.4->jupyterlab) (1.4.3)\n",
      "Requirement already satisfied: jupyterlab-pygments in /home/arquinho/anaconda3/lib/python3.9/site-packages (from nbconvert->jupyter-server~=1.4->jupyterlab) (0.1.2)\n",
      "Requirement already satisfied: nbclient<0.6.0,>=0.5.0 in /home/arquinho/anaconda3/lib/python3.9/site-packages (from nbconvert->jupyter-server~=1.4->jupyterlab) (0.5.3)\n",
      "Requirement already satisfied: defusedxml in /home/arquinho/anaconda3/lib/python3.9/site-packages (from nbconvert->jupyter-server~=1.4->jupyterlab) (0.7.1)\n",
      "Requirement already satisfied: mistune<2,>=0.8.1 in /home/arquinho/anaconda3/lib/python3.9/site-packages (from nbconvert->jupyter-server~=1.4->jupyterlab) (0.8.4)\n",
      "Requirement already satisfied: testpath in /home/arquinho/anaconda3/lib/python3.9/site-packages (from nbconvert->jupyter-server~=1.4->jupyterlab) (0.5.0)\n",
      "Requirement already satisfied: bleach in /home/arquinho/anaconda3/lib/python3.9/site-packages (from nbconvert->jupyter-server~=1.4->jupyterlab) (4.0.0)\n",
      "Requirement already satisfied: async-generator in /home/arquinho/anaconda3/lib/python3.9/site-packages (from nbclient<0.6.0,>=0.5.0->nbconvert->jupyter-server~=1.4->jupyterlab) (1.10)\n",
      "Requirement already satisfied: nest-asyncio in /home/arquinho/anaconda3/lib/python3.9/site-packages (from nbclient<0.6.0,>=0.5.0->nbconvert->jupyter-server~=1.4->jupyterlab) (1.5.1)\n",
      "Requirement already satisfied: webencodings in /home/arquinho/anaconda3/lib/python3.9/site-packages (from bleach->nbconvert->jupyter-server~=1.4->jupyterlab) (0.5.1)\n",
      "Requirement already satisfied: urllib3<1.27,>=1.21.1 in /home/arquinho/anaconda3/lib/python3.9/site-packages (from requests->jupyterlab-server~=2.3->jupyterlab) (1.26.7)\n",
      "Requirement already satisfied: charset-normalizer~=2.0.0 in /home/arquinho/anaconda3/lib/python3.9/site-packages (from requests->jupyterlab-server~=2.3->jupyterlab) (2.0.4)\n",
      "Requirement already satisfied: certifi>=2017.4.17 in /home/arquinho/anaconda3/lib/python3.9/site-packages (from requests->jupyterlab-server~=2.3->jupyterlab) (2021.10.8)\n",
      "Note: you may need to restart the kernel to use updated packages.\n"
     ]
    }
   ],
   "source": [
    "pip install jupyterlab scikit-plot"
   ]
  },
  {
   "cell_type": "markdown",
   "id": "0a78f630",
   "metadata": {},
   "source": [
    "### 0.2 IMPORTS"
   ]
  },
  {
   "cell_type": "code",
   "execution_count": 2,
   "id": "e698956a",
   "metadata": {
    "ExecuteTime": {
     "end_time": "2022-05-14T22:28:24.874563Z",
     "start_time": "2022-05-14T22:28:23.609694Z"
    }
   },
   "outputs": [],
   "source": [
    "import pandas as pd\n",
    "import numpy as np\n",
    "import inflection\n",
    "import seaborn as sns\n",
    "import scikitplot as skplt\n",
    "\n",
    "from matplotlib import pyplot as plt\n",
    "from sklearn import preprocessing as pp\n",
    "from sklearn import model_selection as ms\n",
    "from sklearn import ensemble as en\n",
    "from sklearn import neighbors as nh\n",
    "from sklearn import linear_model as lm"
   ]
  },
  {
   "cell_type": "code",
   "execution_count": 3,
   "id": "20c1307f",
   "metadata": {
    "ExecuteTime": {
     "end_time": "2022-05-14T22:28:24.877559Z",
     "start_time": "2022-05-14T22:28:24.875691Z"
    }
   },
   "outputs": [],
   "source": [
    "#jupyter_settings()"
   ]
  },
  {
   "cell_type": "markdown",
   "id": "bca3d9cb",
   "metadata": {},
   "source": [
    "### 0.3 LOADING DATASET"
   ]
  },
  {
   "cell_type": "code",
   "execution_count": 4,
   "id": "efc52aea",
   "metadata": {
    "ExecuteTime": {
     "end_time": "2022-05-14T22:28:25.140392Z",
     "start_time": "2022-05-14T22:28:24.878415Z"
    }
   },
   "outputs": [],
   "source": [
    "df_raw = pd.read_csv('/home/arquinho/REPOS/health_insurance/pa004_health_insurance_cross_sell/health_insurance_cross-sell/data/raw/train.csv')"
   ]
  },
  {
   "cell_type": "code",
   "execution_count": 5,
   "id": "2ee75f43",
   "metadata": {
    "ExecuteTime": {
     "end_time": "2022-05-14T22:28:25.155474Z",
     "start_time": "2022-05-14T22:28:25.141269Z"
    }
   },
   "outputs": [
    {
     "data": {
      "text/html": [
       "<div>\n",
       "<style scoped>\n",
       "    .dataframe tbody tr th:only-of-type {\n",
       "        vertical-align: middle;\n",
       "    }\n",
       "\n",
       "    .dataframe tbody tr th {\n",
       "        vertical-align: top;\n",
       "    }\n",
       "\n",
       "    .dataframe thead th {\n",
       "        text-align: right;\n",
       "    }\n",
       "</style>\n",
       "<table border=\"1\" class=\"dataframe\">\n",
       "  <thead>\n",
       "    <tr style=\"text-align: right;\">\n",
       "      <th></th>\n",
       "      <th>id</th>\n",
       "      <th>Gender</th>\n",
       "      <th>Age</th>\n",
       "      <th>Driving_License</th>\n",
       "      <th>Region_Code</th>\n",
       "      <th>Previously_Insured</th>\n",
       "      <th>Vehicle_Age</th>\n",
       "      <th>Vehicle_Damage</th>\n",
       "      <th>Annual_Premium</th>\n",
       "      <th>Policy_Sales_Channel</th>\n",
       "      <th>Vintage</th>\n",
       "      <th>Response</th>\n",
       "    </tr>\n",
       "  </thead>\n",
       "  <tbody>\n",
       "    <tr>\n",
       "      <th>0</th>\n",
       "      <td>1</td>\n",
       "      <td>Male</td>\n",
       "      <td>44</td>\n",
       "      <td>1</td>\n",
       "      <td>28.0</td>\n",
       "      <td>0</td>\n",
       "      <td>&gt; 2 Years</td>\n",
       "      <td>Yes</td>\n",
       "      <td>40454.0</td>\n",
       "      <td>26.0</td>\n",
       "      <td>217</td>\n",
       "      <td>1</td>\n",
       "    </tr>\n",
       "    <tr>\n",
       "      <th>1</th>\n",
       "      <td>2</td>\n",
       "      <td>Male</td>\n",
       "      <td>76</td>\n",
       "      <td>1</td>\n",
       "      <td>3.0</td>\n",
       "      <td>0</td>\n",
       "      <td>1-2 Year</td>\n",
       "      <td>No</td>\n",
       "      <td>33536.0</td>\n",
       "      <td>26.0</td>\n",
       "      <td>183</td>\n",
       "      <td>0</td>\n",
       "    </tr>\n",
       "    <tr>\n",
       "      <th>2</th>\n",
       "      <td>3</td>\n",
       "      <td>Male</td>\n",
       "      <td>47</td>\n",
       "      <td>1</td>\n",
       "      <td>28.0</td>\n",
       "      <td>0</td>\n",
       "      <td>&gt; 2 Years</td>\n",
       "      <td>Yes</td>\n",
       "      <td>38294.0</td>\n",
       "      <td>26.0</td>\n",
       "      <td>27</td>\n",
       "      <td>1</td>\n",
       "    </tr>\n",
       "    <tr>\n",
       "      <th>3</th>\n",
       "      <td>4</td>\n",
       "      <td>Male</td>\n",
       "      <td>21</td>\n",
       "      <td>1</td>\n",
       "      <td>11.0</td>\n",
       "      <td>1</td>\n",
       "      <td>&lt; 1 Year</td>\n",
       "      <td>No</td>\n",
       "      <td>28619.0</td>\n",
       "      <td>152.0</td>\n",
       "      <td>203</td>\n",
       "      <td>0</td>\n",
       "    </tr>\n",
       "    <tr>\n",
       "      <th>4</th>\n",
       "      <td>5</td>\n",
       "      <td>Female</td>\n",
       "      <td>29</td>\n",
       "      <td>1</td>\n",
       "      <td>41.0</td>\n",
       "      <td>1</td>\n",
       "      <td>&lt; 1 Year</td>\n",
       "      <td>No</td>\n",
       "      <td>27496.0</td>\n",
       "      <td>152.0</td>\n",
       "      <td>39</td>\n",
       "      <td>0</td>\n",
       "    </tr>\n",
       "  </tbody>\n",
       "</table>\n",
       "</div>"
      ],
      "text/plain": [
       "   id  Gender  Age  Driving_License  Region_Code  Previously_Insured  \\\n",
       "0   1    Male   44                1         28.0                   0   \n",
       "1   2    Male   76                1          3.0                   0   \n",
       "2   3    Male   47                1         28.0                   0   \n",
       "3   4    Male   21                1         11.0                   1   \n",
       "4   5  Female   29                1         41.0                   1   \n",
       "\n",
       "  Vehicle_Age Vehicle_Damage  Annual_Premium  Policy_Sales_Channel  Vintage  \\\n",
       "0   > 2 Years            Yes         40454.0                  26.0      217   \n",
       "1    1-2 Year             No         33536.0                  26.0      183   \n",
       "2   > 2 Years            Yes         38294.0                  26.0       27   \n",
       "3    < 1 Year             No         28619.0                 152.0      203   \n",
       "4    < 1 Year             No         27496.0                 152.0       39   \n",
       "\n",
       "   Response  \n",
       "0         1  \n",
       "1         0  \n",
       "2         1  \n",
       "3         0  \n",
       "4         0  "
      ]
     },
     "execution_count": 5,
     "metadata": {},
     "output_type": "execute_result"
    }
   ],
   "source": [
    "df_raw.head()"
   ]
  },
  {
   "cell_type": "markdown",
   "id": "67730b98",
   "metadata": {},
   "source": [
    "## 1.0 DATA DESCRIPTION"
   ]
  },
  {
   "cell_type": "code",
   "execution_count": 6,
   "id": "d4caf656",
   "metadata": {
    "ExecuteTime": {
     "end_time": "2022-05-14T22:28:25.163636Z",
     "start_time": "2022-05-14T22:28:25.156652Z"
    }
   },
   "outputs": [],
   "source": [
    "df1 = df_raw.copy()"
   ]
  },
  {
   "cell_type": "markdown",
   "id": "02a13c69",
   "metadata": {},
   "source": [
    "### 1.1 RENAME COLUMNS"
   ]
  },
  {
   "cell_type": "code",
   "execution_count": 7,
   "id": "55fef4e9",
   "metadata": {
    "ExecuteTime": {
     "end_time": "2022-05-14T22:28:25.171032Z",
     "start_time": "2022-05-14T22:28:25.164491Z"
    }
   },
   "outputs": [
    {
     "data": {
      "text/plain": [
       "Index(['id', 'gender', 'age', 'driving_license', 'region_code',\n",
       "       'previously_insured', 'vehicle_age', 'vehicle_damage', 'annual_premium',\n",
       "       'policy_sales_channel', 'vintage', 'response'],\n",
       "      dtype='object')"
      ]
     },
     "execution_count": 7,
     "metadata": {},
     "output_type": "execute_result"
    }
   ],
   "source": [
    "df1.columns\n",
    "cols_old = ['id', 'Gender', 'Age', 'Driving_License', 'Region_Code', 'Previously_Insured', 'Vehicle_Age', 'Vehicle_Damage', 'Annual_Premium', 'Policy_Sales_Channel', 'Vintage', 'Response']\n",
    "\n",
    "snakecase = lambda x: inflection.underscore( x )\n",
    "\n",
    "cols_new = list( map( snakecase, cols_old ) )\n",
    "\n",
    "df1.columns = cols_new\n",
    "\n",
    "df1.columns"
   ]
  },
  {
   "cell_type": "markdown",
   "id": "86d3a799",
   "metadata": {},
   "source": [
    "### 1.2 DATA DIMENSION"
   ]
  },
  {
   "cell_type": "code",
   "execution_count": 8,
   "id": "8ac37ee5",
   "metadata": {
    "ExecuteTime": {
     "end_time": "2022-05-14T22:28:25.174033Z",
     "start_time": "2022-05-14T22:28:25.171901Z"
    }
   },
   "outputs": [
    {
     "name": "stdout",
     "output_type": "stream",
     "text": [
      "Number of Rows: 381109\n",
      "Number of Columns: 12\n"
     ]
    }
   ],
   "source": [
    "print( 'Number of Rows: {}'.format( df1.shape[0] ) )\n",
    "print( 'Number of Columns: {}'.format( df1.shape[1] ) )"
   ]
  },
  {
   "cell_type": "markdown",
   "id": "8da65b17",
   "metadata": {},
   "source": [
    "### 1.3 DATA TYPES"
   ]
  },
  {
   "cell_type": "code",
   "execution_count": 9,
   "id": "f987c7cc",
   "metadata": {
    "ExecuteTime": {
     "end_time": "2022-05-14T22:28:25.178415Z",
     "start_time": "2022-05-14T22:28:25.175348Z"
    }
   },
   "outputs": [
    {
     "data": {
      "text/plain": [
       "id                        int64\n",
       "gender                   object\n",
       "age                       int64\n",
       "driving_license           int64\n",
       "region_code             float64\n",
       "previously_insured        int64\n",
       "vehicle_age              object\n",
       "vehicle_damage           object\n",
       "annual_premium          float64\n",
       "policy_sales_channel    float64\n",
       "vintage                   int64\n",
       "response                  int64\n",
       "dtype: object"
      ]
     },
     "execution_count": 9,
     "metadata": {},
     "output_type": "execute_result"
    }
   ],
   "source": [
    "df1.dtypes"
   ]
  },
  {
   "cell_type": "markdown",
   "id": "1d1bf1bf",
   "metadata": {},
   "source": [
    "### 1.4 DATA NA"
   ]
  },
  {
   "cell_type": "code",
   "execution_count": 10,
   "id": "470328c7",
   "metadata": {
    "ExecuteTime": {
     "end_time": "2022-05-14T22:28:25.224692Z",
     "start_time": "2022-05-14T22:28:25.179345Z"
    }
   },
   "outputs": [
    {
     "data": {
      "text/plain": [
       "id                      0\n",
       "gender                  0\n",
       "age                     0\n",
       "driving_license         0\n",
       "region_code             0\n",
       "previously_insured      0\n",
       "vehicle_age             0\n",
       "vehicle_damage          0\n",
       "annual_premium          0\n",
       "policy_sales_channel    0\n",
       "vintage                 0\n",
       "response                0\n",
       "dtype: int64"
      ]
     },
     "execution_count": 10,
     "metadata": {},
     "output_type": "execute_result"
    }
   ],
   "source": [
    "df1.isna().sum()"
   ]
  },
  {
   "cell_type": "markdown",
   "id": "f056c013",
   "metadata": {},
   "source": [
    "### 1.5 DATA DESCRIPTIVE"
   ]
  },
  {
   "cell_type": "code",
   "execution_count": 11,
   "id": "e7c2d143",
   "metadata": {
    "ExecuteTime": {
     "end_time": "2022-05-14T22:28:25.248454Z",
     "start_time": "2022-05-14T22:28:25.225512Z"
    }
   },
   "outputs": [],
   "source": [
    "num_attributes = df1.select_dtypes( include=['int64', 'float64'] )\n",
    "cat__attributes = df1.select_dtypes( exclude=['int64', 'float64', 'datetime64[ns]'] )"
   ]
  },
  {
   "cell_type": "code",
   "execution_count": 12,
   "id": "7b53064c",
   "metadata": {
    "ExecuteTime": {
     "end_time": "2022-05-14T22:28:25.696764Z",
     "start_time": "2022-05-14T22:28:25.250471Z"
    }
   },
   "outputs": [],
   "source": [
    "#Central Tendency - Mean, Median\n",
    "ct1 = pd.DataFrame( num_attributes.apply( np.mean ) ).T\n",
    "ct2 = pd.DataFrame( num_attributes.apply( np.median ) ).T\n",
    "\n",
    "# Dispersion - std, min, max, range, skew, kurtosis\n",
    "d1 = pd.DataFrame( num_attributes.apply( np.std ) ).T\n",
    "d2 = pd.DataFrame( num_attributes.apply( min ) ).T\n",
    "d3 = pd.DataFrame( num_attributes.apply( max ) ).T\n",
    "d4 = pd.DataFrame( num_attributes.apply( lambda x: x.max() - x.min() ) ).T\n",
    "d5 = pd.DataFrame( num_attributes.apply( lambda x: x.skew() ) ).T\n",
    "d6 = pd.DataFrame( num_attributes.apply( lambda x: x.kurtosis() ) ).T\n",
    "\n",
    "# concatenar\n",
    "m = pd.concat( [d2, d3, d4, ct1, ct2, d1, d5, d6]).T.reset_index()\n",
    "m.columns = ['attributes', 'min', 'max', 'range', 'mean', 'median', 'std', 'skew', 'kurtosis']"
   ]
  },
  {
   "cell_type": "code",
   "execution_count": 13,
   "id": "c7486f78",
   "metadata": {
    "ExecuteTime": {
     "end_time": "2022-05-14T22:28:25.708004Z",
     "start_time": "2022-05-14T22:28:25.697533Z"
    }
   },
   "outputs": [
    {
     "data": {
      "text/html": [
       "<div>\n",
       "<style scoped>\n",
       "    .dataframe tbody tr th:only-of-type {\n",
       "        vertical-align: middle;\n",
       "    }\n",
       "\n",
       "    .dataframe tbody tr th {\n",
       "        vertical-align: top;\n",
       "    }\n",
       "\n",
       "    .dataframe thead th {\n",
       "        text-align: right;\n",
       "    }\n",
       "</style>\n",
       "<table border=\"1\" class=\"dataframe\">\n",
       "  <thead>\n",
       "    <tr style=\"text-align: right;\">\n",
       "      <th></th>\n",
       "      <th>attributes</th>\n",
       "      <th>min</th>\n",
       "      <th>max</th>\n",
       "      <th>range</th>\n",
       "      <th>mean</th>\n",
       "      <th>median</th>\n",
       "      <th>std</th>\n",
       "      <th>skew</th>\n",
       "      <th>kurtosis</th>\n",
       "    </tr>\n",
       "  </thead>\n",
       "  <tbody>\n",
       "    <tr>\n",
       "      <th>0</th>\n",
       "      <td>id</td>\n",
       "      <td>1.0</td>\n",
       "      <td>381109.0</td>\n",
       "      <td>381108.0</td>\n",
       "      <td>190555.000000</td>\n",
       "      <td>190555.0</td>\n",
       "      <td>110016.691870</td>\n",
       "      <td>9.443274e-16</td>\n",
       "      <td>-1.200000</td>\n",
       "    </tr>\n",
       "    <tr>\n",
       "      <th>1</th>\n",
       "      <td>age</td>\n",
       "      <td>20.0</td>\n",
       "      <td>85.0</td>\n",
       "      <td>65.0</td>\n",
       "      <td>38.822584</td>\n",
       "      <td>36.0</td>\n",
       "      <td>15.511591</td>\n",
       "      <td>6.725390e-01</td>\n",
       "      <td>-0.565655</td>\n",
       "    </tr>\n",
       "    <tr>\n",
       "      <th>2</th>\n",
       "      <td>driving_license</td>\n",
       "      <td>0.0</td>\n",
       "      <td>1.0</td>\n",
       "      <td>1.0</td>\n",
       "      <td>0.997869</td>\n",
       "      <td>1.0</td>\n",
       "      <td>0.046109</td>\n",
       "      <td>-2.159518e+01</td>\n",
       "      <td>464.354302</td>\n",
       "    </tr>\n",
       "    <tr>\n",
       "      <th>3</th>\n",
       "      <td>region_code</td>\n",
       "      <td>0.0</td>\n",
       "      <td>52.0</td>\n",
       "      <td>52.0</td>\n",
       "      <td>26.388807</td>\n",
       "      <td>28.0</td>\n",
       "      <td>13.229871</td>\n",
       "      <td>-1.152664e-01</td>\n",
       "      <td>-0.867857</td>\n",
       "    </tr>\n",
       "    <tr>\n",
       "      <th>4</th>\n",
       "      <td>previously_insured</td>\n",
       "      <td>0.0</td>\n",
       "      <td>1.0</td>\n",
       "      <td>1.0</td>\n",
       "      <td>0.458210</td>\n",
       "      <td>0.0</td>\n",
       "      <td>0.498251</td>\n",
       "      <td>1.677471e-01</td>\n",
       "      <td>-1.971871</td>\n",
       "    </tr>\n",
       "  </tbody>\n",
       "</table>\n",
       "</div>"
      ],
      "text/plain": [
       "           attributes   min       max     range           mean    median  \\\n",
       "0                  id   1.0  381109.0  381108.0  190555.000000  190555.0   \n",
       "1                 age  20.0      85.0      65.0      38.822584      36.0   \n",
       "2     driving_license   0.0       1.0       1.0       0.997869       1.0   \n",
       "3         region_code   0.0      52.0      52.0      26.388807      28.0   \n",
       "4  previously_insured   0.0       1.0       1.0       0.458210       0.0   \n",
       "\n",
       "             std          skew    kurtosis  \n",
       "0  110016.691870  9.443274e-16   -1.200000  \n",
       "1      15.511591  6.725390e-01   -0.565655  \n",
       "2       0.046109 -2.159518e+01  464.354302  \n",
       "3      13.229871 -1.152664e-01   -0.867857  \n",
       "4       0.498251  1.677471e-01   -1.971871  "
      ]
     },
     "execution_count": 13,
     "metadata": {},
     "output_type": "execute_result"
    }
   ],
   "source": [
    "m.head()"
   ]
  },
  {
   "cell_type": "markdown",
   "id": "7876ecd3",
   "metadata": {},
   "source": [
    "## 2.0. FEATURE ENGINEERING"
   ]
  },
  {
   "cell_type": "code",
   "execution_count": 14,
   "id": "176a97b2",
   "metadata": {
    "ExecuteTime": {
     "end_time": "2022-05-14T22:28:25.723089Z",
     "start_time": "2022-05-14T22:28:25.708864Z"
    }
   },
   "outputs": [],
   "source": [
    "df2 = df1.copy()"
   ]
  },
  {
   "cell_type": "code",
   "execution_count": 15,
   "id": "335df718",
   "metadata": {
    "ExecuteTime": {
     "end_time": "2022-05-14T22:28:25.849440Z",
     "start_time": "2022-05-14T22:28:25.724033Z"
    }
   },
   "outputs": [],
   "source": [
    "#vehicle age\n",
    "df2['vehicle_age'] = df2['vehicle_age'].apply( lambda x: 'over_2_years' if x == '> 2 Years' else\n",
    "                                              'between_1_2_years' if x == '1-2 Year' else 'below_1_year' )\n",
    "\n",
    "#vehicle damage\n",
    "df2['vehicle_damage'] = df2['vehicle_damage'].apply( lambda x: 1 if x == 'Yes' else 0)"
   ]
  },
  {
   "cell_type": "markdown",
   "id": "f32af1f5",
   "metadata": {},
   "source": [
    "## 3.0. DATA FILTERING"
   ]
  },
  {
   "cell_type": "code",
   "execution_count": 16,
   "id": "9ce7e155",
   "metadata": {
    "ExecuteTime": {
     "end_time": "2022-05-14T22:28:25.874736Z",
     "start_time": "2022-05-14T22:28:25.851635Z"
    }
   },
   "outputs": [],
   "source": [
    "df3 = df2.copy()"
   ]
  },
  {
   "cell_type": "code",
   "execution_count": null,
   "id": "357a5b29",
   "metadata": {},
   "outputs": [],
   "source": []
  },
  {
   "cell_type": "markdown",
   "id": "385b8ade",
   "metadata": {},
   "source": [
    "## 4.0. EDA"
   ]
  },
  {
   "cell_type": "code",
   "execution_count": 17,
   "id": "3bbfffc6",
   "metadata": {
    "ExecuteTime": {
     "end_time": "2022-05-14T22:28:25.884330Z",
     "start_time": "2022-05-14T22:28:25.875609Z"
    }
   },
   "outputs": [],
   "source": [
    "df4 = df3.copy()"
   ]
  },
  {
   "cell_type": "markdown",
   "id": "20397ceb",
   "metadata": {},
   "source": [
    "### 4.1 UNIVARIATE ANALYSIS"
   ]
  },
  {
   "cell_type": "code",
   "execution_count": 18,
   "id": "1c50db35",
   "metadata": {
    "ExecuteTime": {
     "end_time": "2022-05-14T22:28:25.888924Z",
     "start_time": "2022-05-14T22:28:25.886012Z"
    }
   },
   "outputs": [
    {
     "data": {
      "text/plain": [
       "Index(['id', 'gender', 'age', 'driving_license', 'region_code',\n",
       "       'previously_insured', 'vehicle_age', 'vehicle_damage', 'annual_premium',\n",
       "       'policy_sales_channel', 'vintage', 'response'],\n",
       "      dtype='object')"
      ]
     },
     "execution_count": 18,
     "metadata": {},
     "output_type": "execute_result"
    }
   ],
   "source": [
    "df4.columns"
   ]
  },
  {
   "cell_type": "code",
   "execution_count": 19,
   "id": "6d46574e",
   "metadata": {
    "ExecuteTime": {
     "end_time": "2022-05-14T22:28:26.047833Z",
     "start_time": "2022-05-14T22:28:25.889560Z"
    }
   },
   "outputs": [
    {
     "data": {
      "text/plain": [
       "<AxesSubplot:xlabel='response', ylabel='age'>"
      ]
     },
     "execution_count": 19,
     "metadata": {},
     "output_type": "execute_result"
    },
    {
     "data": {
      "image/png": "[encoded data removed]",
      "text/plain": [
       "<Figure size 432x288 with 1 Axes>"
      ]
     },
     "metadata": {
      "needs_background": "light"
     },
     "output_type": "display_data"
    }
   ],
   "source": [
    "#age\n",
    "sns.boxplot(x='response', y='age', data=df4)"
   ]
  },
  {
   "cell_type": "code",
   "execution_count": 20,
   "id": "aa6add26",
   "metadata": {
    "ExecuteTime": {
     "end_time": "2022-05-14T22:28:26.311425Z",
     "start_time": "2022-05-14T22:28:26.049325Z"
    }
   },
   "outputs": [
    {
     "data": {
      "text/plain": [
       "<AxesSubplot:xlabel='age', ylabel='Count'>"
      ]
     },
     "execution_count": 20,
     "metadata": {},
     "output_type": "execute_result"
    },
    {
     "data": {
      "image/png": "[encoded data removed]",
      "text/plain": [
       "<Figure size 432x288 with 1 Axes>"
      ]
     },
     "metadata": {
      "needs_background": "light"
     },
     "output_type": "display_data"
    }
   ],
   "source": [
    "aux1 = df4.loc[df4['response'] ==0, 'age']\n",
    "sns.histplot( aux1 )"
   ]
  },
  {
   "cell_type": "code",
   "execution_count": 21,
   "id": "bf2d6cfe",
   "metadata": {
    "ExecuteTime": {
     "end_time": "2022-05-14T22:28:26.474727Z",
     "start_time": "2022-05-14T22:28:26.312265Z"
    }
   },
   "outputs": [
    {
     "data": {
      "text/plain": [
       "<AxesSubplot:xlabel='age', ylabel='Count'>"
      ]
     },
     "execution_count": 21,
     "metadata": {},
     "output_type": "execute_result"
    },
    {
     "data": {
      "image/png": "[encoded data removed]",
      "text/plain": [
       "<Figure size 432x288 with 1 Axes>"
      ]
     },
     "metadata": {
      "needs_background": "light"
     },
     "output_type": "display_data"
    }
   ],
   "source": [
    "aux1 = df4.loc[df4['response'] ==1, 'age']\n",
    "sns.histplot( aux1 )"
   ]
  },
  {
   "cell_type": "code",
   "execution_count": 22,
   "id": "418740d4",
   "metadata": {
    "ExecuteTime": {
     "end_time": "2022-05-14T22:28:26.477002Z",
     "start_time": "2022-05-14T22:28:26.475569Z"
    }
   },
   "outputs": [],
   "source": [
    "#annual_premium"
   ]
  },
  {
   "cell_type": "code",
   "execution_count": 23,
   "id": "413067b6",
   "metadata": {
    "ExecuteTime": {
     "end_time": "2022-05-14T22:28:26.640989Z",
     "start_time": "2022-05-14T22:28:26.477737Z"
    }
   },
   "outputs": [
    {
     "data": {
      "text/plain": [
       "<AxesSubplot:xlabel='response', ylabel='annual_premium'>"
      ]
     },
     "execution_count": 23,
     "metadata": {},
     "output_type": "execute_result"
    },
    {
     "data": {
      "image/png": "[encoded data removed]",
      "text/plain": [
       "<Figure size 432x288 with 1 Axes>"
      ]
     },
     "metadata": {
      "needs_background": "light"
     },
     "output_type": "display_data"
    }
   ],
   "source": [
    "aux = df4[df4['annual_premium'] < 80000]\n",
    "sns.boxplot( x='response', y='annual_premium', data= aux) #bom para achar outlier"
   ]
  },
  {
   "cell_type": "code",
   "execution_count": 24,
   "id": "b82a0cd2",
   "metadata": {
    "ExecuteTime": {
     "end_time": "2022-05-14T22:28:26.984735Z",
     "start_time": "2022-05-14T22:28:26.641790Z"
    }
   },
   "outputs": [
    {
     "data": {
      "text/plain": [
       "<AxesSubplot:xlabel='annual_premium', ylabel='Count'>"
      ]
     },
     "execution_count": 24,
     "metadata": {},
     "output_type": "execute_result"
    },
    {
     "data": {
      "image/png": "[encoded data removed]",
      "text/plain": [
       "<Figure size 432x288 with 1 Axes>"
      ]
     },
     "metadata": {
      "needs_background": "light"
     },
     "output_type": "display_data"
    }
   ],
   "source": [
    "aux = df4[(df4['annual_premium'] > 10000) & (df4['annual_premium'] <80000 )]\n",
    "aux1 = aux.loc[aux['response'] == 0, 'annual_premium']\n",
    "sns.histplot( aux1 )"
   ]
  },
  {
   "cell_type": "code",
   "execution_count": 25,
   "id": "12a11024",
   "metadata": {
    "ExecuteTime": {
     "end_time": "2022-05-14T22:28:27.222101Z",
     "start_time": "2022-05-14T22:28:26.987114Z"
    }
   },
   "outputs": [
    {
     "data": {
      "text/plain": [
       "<AxesSubplot:xlabel='annual_premium', ylabel='Count'>"
      ]
     },
     "execution_count": 25,
     "metadata": {},
     "output_type": "execute_result"
    },
    {
     "data": {
      "image/png": "[encoded data removed]",
      "text/plain": [
       "<Figure size 432x288 with 1 Axes>"
      ]
     },
     "metadata": {
      "needs_background": "light"
     },
     "output_type": "display_data"
    }
   ],
   "source": [
    "aux1 = aux.loc[aux['response'] == 1, 'annual_premium']\n",
    "sns.histplot( aux1 )"
   ]
  },
  {
   "cell_type": "code",
   "execution_count": 26,
   "id": "9bfdad2b",
   "metadata": {
    "ExecuteTime": {
     "end_time": "2022-05-14T22:28:27.304499Z",
     "start_time": "2022-05-14T22:28:27.223221Z"
    }
   },
   "outputs": [
    {
     "data": {
      "text/plain": [
       "<AxesSubplot:xlabel='response', ylabel='driving_license'>"
      ]
     },
     "execution_count": 26,
     "metadata": {},
     "output_type": "execute_result"
    },
    {
     "data": {
      "image/png": "[encoded data removed]",
      "text/plain": [
       "<Figure size 432x288 with 1 Axes>"
      ]
     },
     "metadata": {
      "needs_background": "light"
     },
     "output_type": "display_data"
    }
   ],
   "source": [
    "#driving_license\n",
    "aux = df4[['driving_license', 'response']].groupby( 'response' ).sum().reset_index()\n",
    "sns.barplot( x='response', y='driving_license', data=aux)"
   ]
  },
  {
   "cell_type": "code",
   "execution_count": 27,
   "id": "02f8ae28",
   "metadata": {
    "ExecuteTime": {
     "end_time": "2022-05-14T22:28:27.311726Z",
     "start_time": "2022-05-14T22:28:27.306722Z"
    }
   },
   "outputs": [
    {
     "data": {
      "text/html": [
       "<div>\n",
       "<style scoped>\n",
       "    .dataframe tbody tr th:only-of-type {\n",
       "        vertical-align: middle;\n",
       "    }\n",
       "\n",
       "    .dataframe tbody tr th {\n",
       "        vertical-align: top;\n",
       "    }\n",
       "\n",
       "    .dataframe thead th {\n",
       "        text-align: right;\n",
       "    }\n",
       "</style>\n",
       "<table border=\"1\" class=\"dataframe\">\n",
       "  <thead>\n",
       "    <tr style=\"text-align: right;\">\n",
       "      <th></th>\n",
       "      <th>response</th>\n",
       "      <th>driving_license</th>\n",
       "      <th>driving_license_perc</th>\n",
       "    </tr>\n",
       "  </thead>\n",
       "  <tbody>\n",
       "    <tr>\n",
       "      <th>0</th>\n",
       "      <td>0</td>\n",
       "      <td>333628</td>\n",
       "      <td>0.877283</td>\n",
       "    </tr>\n",
       "    <tr>\n",
       "      <th>1</th>\n",
       "      <td>1</td>\n",
       "      <td>46669</td>\n",
       "      <td>0.122717</td>\n",
       "    </tr>\n",
       "  </tbody>\n",
       "</table>\n",
       "</div>"
      ],
      "text/plain": [
       "   response  driving_license  driving_license_perc\n",
       "0         0           333628              0.877283\n",
       "1         1            46669              0.122717"
      ]
     },
     "execution_count": 27,
     "metadata": {},
     "output_type": "execute_result"
    }
   ],
   "source": [
    "aux['driving_license_perc'] = aux['driving_license'] / aux['driving_license'].sum()\n",
    "aux"
   ]
  },
  {
   "cell_type": "code",
   "execution_count": 28,
   "id": "30515d60",
   "metadata": {
    "ExecuteTime": {
     "end_time": "2022-05-14T22:28:27.460615Z",
     "start_time": "2022-05-14T22:28:27.312527Z"
    }
   },
   "outputs": [
    {
     "data": {
      "text/plain": [
       "<AxesSubplot:xlabel='region_code', ylabel='id'>"
      ]
     },
     "execution_count": 28,
     "metadata": {},
     "output_type": "execute_result"
    },
    {
     "data": {
      "image/png": "[encoded data removed]",
      "text/plain": [
       "<Figure size 432x288 with 1 Axes>"
      ]
     },
     "metadata": {
      "needs_background": "light"
     },
     "output_type": "display_data"
    }
   ],
   "source": [
    "#region_code\n",
    "aux = df4[['id', 'region_code', 'response']].groupby( ['region_code', 'response'] ).count().reset_index()\n",
    "sns.scatterplot( x='region_code', y='id', hue='response', data=aux)"
   ]
  },
  {
   "cell_type": "code",
   "execution_count": 29,
   "id": "31f147cf",
   "metadata": {
    "ExecuteTime": {
     "end_time": "2022-05-14T22:28:27.499315Z",
     "start_time": "2022-05-14T22:28:27.461523Z"
    }
   },
   "outputs": [
    {
     "data": {
      "text/html": [
       "<div>\n",
       "<style scoped>\n",
       "    .dataframe tbody tr th:only-of-type {\n",
       "        vertical-align: middle;\n",
       "    }\n",
       "\n",
       "    .dataframe tbody tr th {\n",
       "        vertical-align: top;\n",
       "    }\n",
       "\n",
       "    .dataframe thead th {\n",
       "        text-align: right;\n",
       "    }\n",
       "</style>\n",
       "<table border=\"1\" class=\"dataframe\">\n",
       "  <thead>\n",
       "    <tr style=\"text-align: right;\">\n",
       "      <th>response</th>\n",
       "      <th>0</th>\n",
       "      <th>1</th>\n",
       "    </tr>\n",
       "    <tr>\n",
       "      <th>previously_insured</th>\n",
       "      <th></th>\n",
       "      <th></th>\n",
       "    </tr>\n",
       "  </thead>\n",
       "  <tbody>\n",
       "    <tr>\n",
       "      <th>0</th>\n",
       "      <td>0.774546</td>\n",
       "      <td>0.225454</td>\n",
       "    </tr>\n",
       "    <tr>\n",
       "      <th>1</th>\n",
       "      <td>0.999095</td>\n",
       "      <td>0.000905</td>\n",
       "    </tr>\n",
       "  </tbody>\n",
       "</table>\n",
       "</div>"
      ],
      "text/plain": [
       "response                   0         1\n",
       "previously_insured                    \n",
       "0                   0.774546  0.225454\n",
       "1                   0.999095  0.000905"
      ]
     },
     "execution_count": 29,
     "metadata": {},
     "output_type": "execute_result"
    }
   ],
   "source": [
    "#previously_insured\n",
    "pd.crosstab( df4['previously_insured'], df4['response'] ).apply(lambda x: x / x.sum(), axis=1)"
   ]
  },
  {
   "cell_type": "code",
   "execution_count": 30,
   "id": "a2c7dca3",
   "metadata": {
    "ExecuteTime": {
     "end_time": "2022-05-14T22:28:27.544887Z",
     "start_time": "2022-05-14T22:28:27.500497Z"
    }
   },
   "outputs": [
    {
     "data": {
      "text/html": [
       "<div>\n",
       "<style scoped>\n",
       "    .dataframe tbody tr th:only-of-type {\n",
       "        vertical-align: middle;\n",
       "    }\n",
       "\n",
       "    .dataframe tbody tr th {\n",
       "        vertical-align: top;\n",
       "    }\n",
       "\n",
       "    .dataframe thead th {\n",
       "        text-align: right;\n",
       "    }\n",
       "</style>\n",
       "<table border=\"1\" class=\"dataframe\">\n",
       "  <thead>\n",
       "    <tr style=\"text-align: right;\">\n",
       "      <th></th>\n",
       "      <th>vehicle_age</th>\n",
       "      <th>response</th>\n",
       "      <th>0</th>\n",
       "    </tr>\n",
       "  </thead>\n",
       "  <tbody>\n",
       "    <tr>\n",
       "      <th>0</th>\n",
       "      <td>between_1_2_years</td>\n",
       "      <td>0</td>\n",
       "      <td>0.434285</td>\n",
       "    </tr>\n",
       "    <tr>\n",
       "      <th>1</th>\n",
       "      <td>below_1_year</td>\n",
       "      <td>0</td>\n",
       "      <td>0.413488</td>\n",
       "    </tr>\n",
       "    <tr>\n",
       "      <th>2</th>\n",
       "      <td>between_1_2_years</td>\n",
       "      <td>1</td>\n",
       "      <td>0.091328</td>\n",
       "    </tr>\n",
       "    <tr>\n",
       "      <th>3</th>\n",
       "      <td>over_2_years</td>\n",
       "      <td>0</td>\n",
       "      <td>0.029663</td>\n",
       "    </tr>\n",
       "    <tr>\n",
       "      <th>4</th>\n",
       "      <td>below_1_year</td>\n",
       "      <td>1</td>\n",
       "      <td>0.018897</td>\n",
       "    </tr>\n",
       "    <tr>\n",
       "      <th>5</th>\n",
       "      <td>over_2_years</td>\n",
       "      <td>1</td>\n",
       "      <td>0.012338</td>\n",
       "    </tr>\n",
       "  </tbody>\n",
       "</table>\n",
       "</div>"
      ],
      "text/plain": [
       "         vehicle_age  response         0\n",
       "0  between_1_2_years         0  0.434285\n",
       "1       below_1_year         0  0.413488\n",
       "2  between_1_2_years         1  0.091328\n",
       "3       over_2_years         0  0.029663\n",
       "4       below_1_year         1  0.018897\n",
       "5       over_2_years         1  0.012338"
      ]
     },
     "execution_count": 30,
     "metadata": {},
     "output_type": "execute_result"
    }
   ],
   "source": [
    "#vehicle_age\n",
    "df4[['vehicle_age', 'response']].value_counts( normalize=True ).reset_index()"
   ]
  },
  {
   "cell_type": "code",
   "execution_count": 31,
   "id": "33051a26",
   "metadata": {
    "ExecuteTime": {
     "end_time": "2022-05-14T22:28:28.192683Z",
     "start_time": "2022-05-14T22:28:27.545663Z"
    }
   },
   "outputs": [
    {
     "data": {
      "text/plain": [
       "<AxesSubplot:xlabel='response', ylabel='policy_sales_channel'>"
      ]
     },
     "execution_count": 31,
     "metadata": {},
     "output_type": "execute_result"
    },
    {
     "data": {
      "image/png": "[encoded data removed]",
      "text/plain": [
       "<Figure size 1728x864 with 1 Axes>"
      ]
     },
     "metadata": {
      "needs_background": "light"
     },
     "output_type": "display_data"
    }
   ],
   "source": [
    "#policy_sales_channel\n",
    "plt.figure( figsize=(24, 12)) #aumenta tamanmhop do grafo\n",
    "aux= df4[['policy_sales_channel', 'response']].groupby( 'policy_sales_channel' ).sum().reset_index()\n",
    "sns.barplot( x='response', y='policy_sales_channel', data=aux)"
   ]
  },
  {
   "cell_type": "code",
   "execution_count": 32,
   "id": "50ef6019",
   "metadata": {
    "ExecuteTime": {
     "end_time": "2022-05-14T22:28:28.297482Z",
     "start_time": "2022-05-14T22:28:28.193523Z"
    }
   },
   "outputs": [
    {
     "data": {
      "text/plain": [
       "<AxesSubplot:xlabel='response', ylabel='vintage'>"
      ]
     },
     "execution_count": 32,
     "metadata": {},
     "output_type": "execute_result"
    },
    {
     "data": {
      "image/png": "[encoded data removed]",
      "text/plain": [
       "<Figure size 432x288 with 1 Axes>"
      ]
     },
     "metadata": {
      "needs_background": "light"
     },
     "output_type": "display_data"
    }
   ],
   "source": [
    "#vintage\n",
    "sns.boxplot( x='response', y='vintage', data=df4)"
   ]
  },
  {
   "cell_type": "code",
   "execution_count": 33,
   "id": "76d168b8",
   "metadata": {
    "ExecuteTime": {
     "end_time": "2022-05-14T22:28:28.553740Z",
     "start_time": "2022-05-14T22:28:28.298435Z"
    }
   },
   "outputs": [
    {
     "data": {
      "text/plain": [
       "<AxesSubplot:xlabel='vintage', ylabel='Count'>"
      ]
     },
     "execution_count": 33,
     "metadata": {},
     "output_type": "execute_result"
    },
    {
     "data": {
      "image/png": "[encoded data removed]",
      "text/plain": [
       "<Figure size 432x288 with 1 Axes>"
      ]
     },
     "metadata": {
      "needs_background": "light"
     },
     "output_type": "display_data"
    }
   ],
   "source": [
    "aux1 = df4.loc[df4['response'] == 0, 'vintage']\n",
    "sns.histplot( aux1 )"
   ]
  },
  {
   "cell_type": "code",
   "execution_count": 34,
   "id": "1a6801e3",
   "metadata": {
    "ExecuteTime": {
     "end_time": "2022-05-14T22:28:28.693355Z",
     "start_time": "2022-05-14T22:28:28.554767Z"
    }
   },
   "outputs": [
    {
     "data": {
      "text/plain": [
       "<AxesSubplot:xlabel='vintage', ylabel='Count'>"
      ]
     },
     "execution_count": 34,
     "metadata": {},
     "output_type": "execute_result"
    },
    {
     "data": {
      "image/png": "[encoded data removed]",
      "text/plain": [
       "<Figure size 432x288 with 1 Axes>"
      ]
     },
     "metadata": {
      "needs_background": "light"
     },
     "output_type": "display_data"
    }
   ],
   "source": [
    "aux1 = df4.loc[df4['response'] == 1, 'vintage']\n",
    "sns.histplot( aux1 )"
   ]
  },
  {
   "cell_type": "markdown",
   "id": "4f6b1e14",
   "metadata": {},
   "source": [
    "## 5.0. DATA PREPARATION"
   ]
  },
  {
   "cell_type": "code",
   "execution_count": 53,
   "id": "5753234b",
   "metadata": {
    "ExecuteTime": {
     "end_time": "2022-05-14T22:29:33.881693Z",
     "start_time": "2022-05-14T22:29:33.872939Z"
    }
   },
   "outputs": [],
   "source": [
    "df5 = df4.copy()"
   ]
  },
  {
   "cell_type": "code",
   "execution_count": 54,
   "id": "d7705f61",
   "metadata": {
    "ExecuteTime": {
     "end_time": "2022-05-14T22:29:34.260251Z",
     "start_time": "2022-05-14T22:29:34.192707Z"
    }
   },
   "outputs": [],
   "source": [
    "X = df4.drop( 'response', axis=1 ) #independet variable\n",
    "y = df4['response'].copy() #depedency variable that will be predicted\n",
    "\n",
    "x_train, x_validation, y_train, y_validation = ms.train_test_split(X, y, test_size=0.20) #teste tera 60% e traiin 80%\n",
    "\n",
    "df5 = pd.concat( [x_train, y_train], axis=1)"
   ]
  },
  {
   "cell_type": "markdown",
   "id": "87d0c3cf",
   "metadata": {},
   "source": [
    "### 5.1 STANDARDIZSATION\n",
    "media - devio padrao"
   ]
  },
  {
   "cell_type": "code",
   "execution_count": 55,
   "id": "eb38ad17",
   "metadata": {
    "ExecuteTime": {
     "end_time": "2022-05-14T22:29:35.745884Z",
     "start_time": "2022-05-14T22:29:35.727969Z"
    }
   },
   "outputs": [],
   "source": [
    "ss = pp.StandardScaler()\n",
    "\n",
    "#annual premium\n",
    "df5['annual_premium'] = ss.fit_transform( df5[['annual_premium']].values )"
   ]
  },
  {
   "cell_type": "markdown",
   "id": "6484ae14",
   "metadata": {},
   "source": [
    "###  5.2 RESCALING\n",
    "reescalar os intervalos entre 0 e 1"
   ]
  },
  {
   "cell_type": "code",
   "execution_count": 56,
   "id": "e0507909",
   "metadata": {
    "ExecuteTime": {
     "end_time": "2022-05-14T22:29:36.242993Z",
     "start_time": "2022-05-14T22:29:36.227631Z"
    }
   },
   "outputs": [],
   "source": [
    "mms_age = pp.MinMaxScaler()\n",
    "mms_vintage = pp.MinMaxScaler()\n",
    "\n",
    "#age\n",
    "df5['age'] = mms_age.fit_transform( df5[['age']].values)\n",
    "\n",
    "#vintage\n",
    "df5['vintage'] = mms_vintage.fit_transform( df5[['vintage']].values)"
   ]
  },
  {
   "cell_type": "markdown",
   "id": "218f9588",
   "metadata": {},
   "source": [
    "###  5.3 ENCODER"
   ]
  },
  {
   "cell_type": "code",
   "execution_count": 57,
   "id": "de5d53ce",
   "metadata": {
    "ExecuteTime": {
     "end_time": "2022-05-14T22:29:38.065984Z",
     "start_time": "2022-05-14T22:29:37.985205Z"
    }
   },
   "outputs": [],
   "source": [
    "#gender\n",
    "target_encode_gender = df5.groupby( 'gender' )['response'].mean()\n",
    "df5.loc[:, 'gender'] = df5['gender'].map( target_encode_gender )\n",
    "\n",
    "#region code - target encond/ferquency/weighted #muitos valores para hot\n",
    "# usa media da frequencia dos outros valores [ara atribui-los valores]\n",
    "target_encode_region_code = df5.groupby( 'region_code' )['response'].mean()\n",
    "df5.loc[:, 'region_code'] = df5['region_code'].map( target_encode_region_code )\n",
    "\n",
    "# vehicle age - One Hot / Order enconding/Frequency\n",
    "df5 = pd.get_dummies(df5, prefix='vehicle_age', columns=['vehicle_age'])\n",
    "#dummies transforma cat em onr hot. Pessimo quando se tem muitos valores diferrente spois deixa gigante o DF\n",
    "\n",
    "#policy sales channel - Frequency Encoding/ target\n",
    "fe_policy_sales_channel = df5.groupby( 'policy_sales_channel' ).size() / len( df5 )\n",
    "df5.loc[:, 'policy_sales_channel'] = df5['policy_sales_channel'].map( fe_policy_sales_channel )"
   ]
  },
  {
   "cell_type": "markdown",
   "id": "670e141e",
   "metadata": {},
   "source": [
    "### 5.4 VALIDATION PREPARATION"
   ]
  },
  {
   "cell_type": "code",
   "execution_count": 58,
   "id": "6f0dbcdc",
   "metadata": {
    "ExecuteTime": {
     "end_time": "2022-05-14T22:30:24.238359Z",
     "start_time": "2022-05-14T22:30:24.180677Z"
    }
   },
   "outputs": [
    {
     "name": "stderr",
     "output_type": "stream",
     "text": [
      "/home/arquinho/anaconda3/lib/python3.9/site-packages/pandas/core/indexing.py:1773: SettingWithCopyWarning: \n",
      "A value is trying to be set on a copy of a slice from a DataFrame.\n",
      "Try using .loc[row_indexer,col_indexer] = value instead\n",
      "\n",
      "See the caveats in the documentation: https://pandas.pydata.org/pandas-docs/stable/user_guide/indexing.html#returning-a-view-versus-a-copy\n",
      "  self._setitem_single_column(ilocs[0], value, pi)\n",
      "/home/arquinho/anaconda3/lib/python3.9/site-packages/pandas/core/indexing.py:1835: SettingWithCopyWarning: \n",
      "A value is trying to be set on a copy of a slice from a DataFrame.\n",
      "Try using .loc[row_indexer,col_indexer] = value instead\n",
      "\n",
      "See the caveats in the documentation: https://pandas.pydata.org/pandas-docs/stable/user_guide/indexing.html#returning-a-view-versus-a-copy\n",
      "  self._setitem_single_column(loc, value[:, i].tolist(), pi)\n",
      "/home/arquinho/anaconda3/lib/python3.9/site-packages/pandas/core/indexing.py:1773: SettingWithCopyWarning: \n",
      "A value is trying to be set on a copy of a slice from a DataFrame.\n",
      "Try using .loc[row_indexer,col_indexer] = value instead\n",
      "\n",
      "See the caveats in the documentation: https://pandas.pydata.org/pandas-docs/stable/user_guide/indexing.html#returning-a-view-versus-a-copy\n",
      "  self._setitem_single_column(ilocs[0], value, pi)\n"
     ]
    }
   ],
   "source": [
    "#gender\n",
    "x_validation.loc[:, 'gender'] = x_validation.loc[:, 'gender'].map( target_encode_gender )\n",
    "\n",
    "#age\n",
    "x_validation.loc[:, 'age'] = mms_age.transform( x_validation[['age']].values )\n",
    "\n",
    "#region code \n",
    "x_validation.loc[:, 'region_code'] = x_validation.loc[:, 'region_code'].map( target_encode_region_code )\n",
    "\n",
    "# vehicle age\n",
    "x_validation = pd.get_dummies( x_validation, prefix='vehicle_age', columns=['vehicle_age'] )\n",
    "\n",
    "#annual premium\n",
    "x_validation.loc[:, 'annual_premium'] = ss.transform( x_validation[['annual_premium']].values )\n",
    "\n",
    "#policy sales channel\n",
    "x_validation.loc[:, 'policy_sales_channel'] = x_validation['policy_sales_channel'].map( fe_policy_sales_channel )\n",
    "\n",
    "#vintage\n",
    "x_validation.loc[:, 'vintage'] = mms_vintage.transform( x_validation[['vintage']].values )\n",
    "\n",
    "#fillna\n",
    "x_validation = x_validation.fillna(0)"
   ]
  },
  {
   "cell_type": "markdown",
   "id": "434ff725",
   "metadata": {},
   "source": [
    "## 6.0. FEATURE SELECTION"
   ]
  },
  {
   "cell_type": "code",
   "execution_count": 59,
   "id": "0ec966ea",
   "metadata": {
    "ExecuteTime": {
     "end_time": "2022-05-14T22:30:29.383388Z",
     "start_time": "2022-05-14T22:30:29.370629Z"
    }
   },
   "outputs": [],
   "source": [
    "df6 = df5.copy()"
   ]
  },
  {
   "cell_type": "markdown",
   "id": "9e4e6e17",
   "metadata": {},
   "source": [
    "### 6.1 FEATURE IMPORTANCIA EXTRATREES\n",
    "boruta retornava poucas variaveis"
   ]
  },
  {
   "cell_type": "code",
   "execution_count": 60,
   "id": "9a764c4a",
   "metadata": {
    "ExecuteTime": {
     "end_time": "2022-05-14T22:32:26.704153Z",
     "start_time": "2022-05-14T22:32:12.414365Z"
    }
   },
   "outputs": [
    {
     "data": {
      "text/plain": [
       "ExtraTreesClassifier(n_estimators=250, n_jobs=-1, random_state=0)"
      ]
     },
     "execution_count": 60,
     "metadata": {},
     "output_type": "execute_result"
    }
   ],
   "source": [
    "# model definition\n",
    "forest = en.ExtraTreesClassifier( n_estimators=250, random_state=0, n_jobs=-1) #mais rapido que o random\n",
    "\n",
    "#data preparation\n",
    "x_train_n = df5.drop( ['id', 'response'], axis=1 )\n",
    "y_train_n = y_train.values\n",
    "forest.fit( x_train_n, y_train_n )"
   ]
  },
  {
   "cell_type": "code",
   "execution_count": 61,
   "id": "f9ce308d",
   "metadata": {
    "ExecuteTime": {
     "end_time": "2022-05-14T22:32:26.709206Z",
     "start_time": "2022-05-14T22:32:26.705731Z"
    }
   },
   "outputs": [
    {
     "data": {
      "text/plain": [
       "Index(['id', 'gender', 'age', 'driving_license', 'region_code',\n",
       "       'previously_insured', 'vehicle_age', 'vehicle_damage', 'annual_premium',\n",
       "       'policy_sales_channel', 'vintage'],\n",
       "      dtype='object')"
      ]
     },
     "execution_count": 61,
     "metadata": {},
     "output_type": "execute_result"
    }
   ],
   "source": [
    "x_train.columns"
   ]
  },
  {
   "cell_type": "code",
   "execution_count": 62,
   "id": "000d785e",
   "metadata": {
    "ExecuteTime": {
     "end_time": "2022-05-14T22:32:27.314925Z",
     "start_time": "2022-05-14T22:32:26.710358Z"
    }
   },
   "outputs": [
    {
     "name": "stdout",
     "output_type": "stream",
     "text": [
      "Feature Ranking:\n",
      "                        feauture  importance\n",
      "0                        vintage    0.273190\n",
      "0                 annual_premium    0.244879\n",
      "0                            age    0.165788\n",
      "0                    region_code    0.105586\n",
      "0                 vehicle_damage    0.067886\n",
      "0           policy_sales_channel    0.059081\n",
      "0             previously_insured    0.055958\n",
      "0       vehicle_age_below_1_year    0.013978\n",
      "0  vehicle_age_between_1_2_years    0.006174\n",
      "0                         gender    0.004835\n",
      "0       vehicle_age_over_2_years    0.002144\n",
      "0                driving_license    0.000499\n"
     ]
    },
    {
     "data": {
      "image/png": "[encoded data removed]",
      "text/plain": [
       "<Figure size 432x288 with 1 Axes>"
      ]
     },
     "metadata": {
      "needs_background": "light"
     },
     "output_type": "display_data"
    }
   ],
   "source": [
    "importances = forest.feature_importances_\n",
    "std = np.std( [tree.feature_importances_ for tree in forest.estimators_], axis=0 )\n",
    "indices = np.argsort(importances)[::-1]\n",
    "\n",
    "#printr the feature ranking\n",
    "print(\"Feature Ranking:\")\n",
    "df = pd.DataFrame()\n",
    "for i, j in zip( x_train_n, forest.feature_importances_):\n",
    "    aux = pd.DataFrame( {'feauture': i, 'importance': j}, index=[0] )\n",
    "    df = pd.concat( [df,aux], axis=0)\n",
    "    \n",
    "print( df.sort_values( 'importance', ascending=False ) )\n",
    "\n",
    "# Plot the impurity-basew feature importances of forest\n",
    "plt.figure()\n",
    "plt.title(\"Feature Importance\")\n",
    "plt.bar(range(x_train_n.shape[1]), importances[indices], color=\"r\", yerr=std[indices], align=\"center\")\n",
    "plt.xticks(range(x_train_n.shape[1] ), indices )\n",
    "plt.xlim([ -1, x_train_n.shape[1]] )\n",
    "plt.show()"
   ]
  },
  {
   "cell_type": "markdown",
   "id": "391ff281",
   "metadata": {},
   "source": [
    "## 7.0. MACHINE LEANING"
   ]
  },
  {
   "cell_type": "code",
   "execution_count": 69,
   "id": "ccf04005",
   "metadata": {
    "ExecuteTime": {
     "end_time": "2022-05-14T22:35:06.912702Z",
     "start_time": "2022-05-14T22:35:06.899228Z"
    }
   },
   "outputs": [],
   "source": [
    "cols_selected = ['annual_premium', 'vintage', 'age', 'region_code', 'vehicle_damage', 'previously_insured', 'policy_sales_channel']\n",
    "\n",
    "x_train = df5[ cols_selected ]\n",
    "x_val = x_validation[ cols_selected ]\n",
    "y_val = y_validation.copy()"
   ]
  },
  {
   "cell_type": "markdown",
   "id": "679657e2",
   "metadata": {},
   "source": [
    "### 7.1. KNN"
   ]
  },
  {
   "cell_type": "code",
   "execution_count": 70,
   "id": "7eb33718",
   "metadata": {
    "ExecuteTime": {
     "end_time": "2022-05-14T22:35:22.219630Z",
     "start_time": "2022-05-14T22:35:10.287316Z"
    }
   },
   "outputs": [],
   "source": [
    "# model definition\n",
    "knn_model = nh.KNeighborsClassifier( n_neighbors=7 )\n",
    "\n",
    "#model training\n",
    "knn_model.fit( x_train, y_train )\n",
    "\n",
    "#model prediction - poder de generalizacao\n",
    "yhat_knn = knn_model.predict_proba( x_val )"
   ]
  },
  {
   "cell_type": "code",
   "execution_count": 71,
   "id": "1c13bdf2",
   "metadata": {
    "ExecuteTime": {
     "end_time": "2022-05-14T22:35:22.329239Z",
     "start_time": "2022-05-14T22:35:22.221408Z"
    }
   },
   "outputs": [
    {
     "data": {
      "image/png": "[encoded data removed]",
      "text/plain": [
       "<Figure size 432x288 with 1 Axes>"
      ]
     },
     "metadata": {
      "needs_background": "light"
     },
     "output_type": "display_data"
    }
   ],
   "source": [
    "# Accumulative Gain - Metricas de ordenacao visto quie o objetivo e' ordenar os clientes e nao classificar quem tem\n",
    "#mais probabilidade d comprar o produto\n",
    "skplt.metrics.plot_cumulative_gain( y_val, yhat_knn);"
   ]
  },
  {
   "cell_type": "markdown",
   "id": "36e9e351",
   "metadata": {},
   "source": [
    "### 7.2 REGRESSAO LOGISTICA"
   ]
  },
  {
   "cell_type": "code",
   "execution_count": 72,
   "id": "c47af640",
   "metadata": {
    "ExecuteTime": {
     "end_time": "2022-05-14T22:35:23.049277Z",
     "start_time": "2022-05-14T22:35:22.330359Z"
    }
   },
   "outputs": [
    {
     "data": {
      "image/png": "[encoded data removed]",
      "text/plain": [
       "<Figure size 432x288 with 1 Axes>"
      ]
     },
     "metadata": {
      "needs_background": "light"
     },
     "output_type": "display_data"
    }
   ],
   "source": [
    "#model definition\n",
    "lr_model = lm.LogisticRegression( random_state=42 )\n",
    "\n",
    "#model training\n",
    "lr_model.fit( x_train, y_train )\n",
    "\n",
    "#model prediction\n",
    "yhat_lr = lr_model.predict_proba( x_val )\n",
    "\n",
    "# accumulative gain\n",
    "skplt.metrics.plot_cumulative_gain( y_val, yhat_lr);"
   ]
  },
  {
   "cell_type": "markdown",
   "id": "f6356905",
   "metadata": {},
   "source": [
    "### 7.3 EXTRA TREES"
   ]
  },
  {
   "cell_type": "code",
   "execution_count": 49,
   "id": "c985f30b",
   "metadata": {
    "ExecuteTime": {
     "end_time": "2022-05-14T22:28:58.595064Z",
     "start_time": "2022-05-14T22:28:58.593171Z"
    }
   },
   "outputs": [],
   "source": [
    "# # model definition\n",
    "# et = en.ExtraTreesClassifier( n_estimators=1000, n_jobs=-1, random_state=42 )\n",
    "    \n",
    "# # model fit\n",
    "# et.fit( x_train, y_train )\n",
    "# # #model prodict\n",
    "# yhat_et = et.predict_proba( x_val )"
   ]
  },
  {
   "cell_type": "markdown",
   "id": "8e566a69",
   "metadata": {},
   "source": [
    "## 8.0. MODEL PERFORMANCE"
   ]
  },
  {
   "cell_type": "code",
   "execution_count": 79,
   "id": "b1dd7093",
   "metadata": {
    "ExecuteTime": {
     "end_time": "2022-05-14T22:43:59.060128Z",
     "start_time": "2022-05-14T22:43:59.055412Z"
    }
   },
   "outputs": [],
   "source": [
    "def precision_at_k( data, k=2000 ):\n",
    "    #reset index\n",
    "    data = data.reset_index( drop=True )\n",
    "    \n",
    "    #create ranking order\n",
    "    data['ranking'] = data.index + 1\n",
    "    \n",
    "    data['precision_at_k'] = data['response'].cumsum() / data['ranking']\n",
    "    \n",
    "    return data.loc[k, 'precision_at_k']"
   ]
  },
  {
   "cell_type": "code",
   "execution_count": 81,
   "id": "451363c2",
   "metadata": {
    "ExecuteTime": {
     "end_time": "2022-05-14T22:46:32.318492Z",
     "start_time": "2022-05-14T22:46:32.313535Z"
    }
   },
   "outputs": [],
   "source": [
    "def recall_at_k( data, k=2000 ):\n",
    "    #reset index\n",
    "    data = data.reset_index( drop=True )\n",
    "    \n",
    "    #create ranking order\n",
    "    data['ranking'] = data.index + 1\n",
    "    \n",
    "    data['recall_at_k'] = data['response'].cumsum() / data['response'].sum()\n",
    "    \n",
    "    return data.loc[k, 'recall_at_k']"
   ]
  },
  {
   "cell_type": "code",
   "execution_count": 84,
   "id": "7c9405f8",
   "metadata": {
    "ExecuteTime": {
     "end_time": "2022-05-14T22:48:55.076815Z",
     "start_time": "2022-05-14T22:48:55.036557Z"
    }
   },
   "outputs": [
    {
     "name": "stdout",
     "output_type": "stream",
     "text": [
      "Precision At K: 0.23529411764705882\n",
      "Recall At K: 0.0012639561828523278\n"
     ]
    }
   ],
   "source": [
    "#copy data\n",
    "df8 = x_validation.copy()\n",
    "df8['response'] = y_validation.copy()\n",
    "\n",
    "# propensity score\n",
    "df8['score'] = yhat_knn[:,1].tolist()\n",
    "\n",
    "# sort ckients bu propensity score\n",
    "df8 = df8.sort_values( 'score', ascending=False )\n",
    "\n",
    "#compute precision at k\n",
    "precision_at_50 = precision_at_k(df8, k=50)\n",
    "print('Precision At K: {}'.format( precision_at_50 ) )\n",
    "\n",
    "#compute recall at k\n",
    "#compute precision at k\n",
    "recall_at_50 = recall_at_k(df8, k=50)\n",
    "print('Recall At K: {}'.format( recall_at_50 ) )"
   ]
  },
  {
   "cell_type": "code",
   "execution_count": 78,
   "id": "ef3df7c8",
   "metadata": {
    "ExecuteTime": {
     "end_time": "2022-05-14T22:38:25.556549Z",
     "start_time": "2022-05-14T22:38:25.541090Z"
    }
   },
   "outputs": [
    {
     "data": {
      "text/html": [
       "<div>\n",
       "<style scoped>\n",
       "    .dataframe tbody tr th:only-of-type {\n",
       "        vertical-align: middle;\n",
       "    }\n",
       "\n",
       "    .dataframe tbody tr th {\n",
       "        vertical-align: top;\n",
       "    }\n",
       "\n",
       "    .dataframe thead th {\n",
       "        text-align: right;\n",
       "    }\n",
       "</style>\n",
       "<table border=\"1\" class=\"dataframe\">\n",
       "  <thead>\n",
       "    <tr style=\"text-align: right;\">\n",
       "      <th></th>\n",
       "      <th>id</th>\n",
       "      <th>gender</th>\n",
       "      <th>age</th>\n",
       "      <th>driving_license</th>\n",
       "      <th>region_code</th>\n",
       "      <th>previously_insured</th>\n",
       "      <th>vehicle_damage</th>\n",
       "      <th>annual_premium</th>\n",
       "      <th>policy_sales_channel</th>\n",
       "      <th>vintage</th>\n",
       "      <th>vehicle_age_below_1_year</th>\n",
       "      <th>vehicle_age_between_1_2_years</th>\n",
       "      <th>vehicle_age_over_2_years</th>\n",
       "      <th>response</th>\n",
       "      <th>score</th>\n",
       "    </tr>\n",
       "  </thead>\n",
       "  <tbody>\n",
       "    <tr>\n",
       "      <th>270323</th>\n",
       "      <td>270324</td>\n",
       "      <td>0.137982</td>\n",
       "      <td>0.215385</td>\n",
       "      <td>1</td>\n",
       "      <td>0.185407</td>\n",
       "      <td>0</td>\n",
       "      <td>1</td>\n",
       "      <td>0.842025</td>\n",
       "      <td>0.194124</td>\n",
       "      <td>0.515571</td>\n",
       "      <td>0</td>\n",
       "      <td>1</td>\n",
       "      <td>0</td>\n",
       "      <td>0</td>\n",
       "      <td>1.0</td>\n",
       "    </tr>\n",
       "    <tr>\n",
       "      <th>152919</th>\n",
       "      <td>152920</td>\n",
       "      <td>0.137982</td>\n",
       "      <td>0.446154</td>\n",
       "      <td>1</td>\n",
       "      <td>0.185407</td>\n",
       "      <td>0</td>\n",
       "      <td>1</td>\n",
       "      <td>1.676861</td>\n",
       "      <td>0.209310</td>\n",
       "      <td>0.100346</td>\n",
       "      <td>0</td>\n",
       "      <td>1</td>\n",
       "      <td>0</td>\n",
       "      <td>0</td>\n",
       "      <td>1.0</td>\n",
       "    </tr>\n",
       "    <tr>\n",
       "      <th>350316</th>\n",
       "      <td>350317</td>\n",
       "      <td>0.103319</td>\n",
       "      <td>0.230769</td>\n",
       "      <td>1</td>\n",
       "      <td>0.149388</td>\n",
       "      <td>0</td>\n",
       "      <td>1</td>\n",
       "      <td>-0.593985</td>\n",
       "      <td>0.194124</td>\n",
       "      <td>0.173010</td>\n",
       "      <td>0</td>\n",
       "      <td>1</td>\n",
       "      <td>0</td>\n",
       "      <td>0</td>\n",
       "      <td>1.0</td>\n",
       "    </tr>\n",
       "    <tr>\n",
       "      <th>222629</th>\n",
       "      <td>222630</td>\n",
       "      <td>0.137982</td>\n",
       "      <td>0.138462</td>\n",
       "      <td>1</td>\n",
       "      <td>0.129228</td>\n",
       "      <td>0</td>\n",
       "      <td>1</td>\n",
       "      <td>-1.627580</td>\n",
       "      <td>0.015724</td>\n",
       "      <td>0.055363</td>\n",
       "      <td>0</td>\n",
       "      <td>1</td>\n",
       "      <td>0</td>\n",
       "      <td>0</td>\n",
       "      <td>1.0</td>\n",
       "    </tr>\n",
       "    <tr>\n",
       "      <th>343612</th>\n",
       "      <td>343613</td>\n",
       "      <td>0.137982</td>\n",
       "      <td>0.153846</td>\n",
       "      <td>1</td>\n",
       "      <td>0.185407</td>\n",
       "      <td>0</td>\n",
       "      <td>1</td>\n",
       "      <td>0.551490</td>\n",
       "      <td>0.209310</td>\n",
       "      <td>0.743945</td>\n",
       "      <td>1</td>\n",
       "      <td>0</td>\n",
       "      <td>0</td>\n",
       "      <td>0</td>\n",
       "      <td>1.0</td>\n",
       "    </tr>\n",
       "  </tbody>\n",
       "</table>\n",
       "</div>"
      ],
      "text/plain": [
       "            id    gender       age  driving_license  region_code  \\\n",
       "270323  270324  0.137982  0.215385                1     0.185407   \n",
       "152919  152920  0.137982  0.446154                1     0.185407   \n",
       "350316  350317  0.103319  0.230769                1     0.149388   \n",
       "222629  222630  0.137982  0.138462                1     0.129228   \n",
       "343612  343613  0.137982  0.153846                1     0.185407   \n",
       "\n",
       "        previously_insured  vehicle_damage  annual_premium  \\\n",
       "270323                   0               1        0.842025   \n",
       "152919                   0               1        1.676861   \n",
       "350316                   0               1       -0.593985   \n",
       "222629                   0               1       -1.627580   \n",
       "343612                   0               1        0.551490   \n",
       "\n",
       "        policy_sales_channel   vintage  vehicle_age_below_1_year  \\\n",
       "270323              0.194124  0.515571                         0   \n",
       "152919              0.209310  0.100346                         0   \n",
       "350316              0.194124  0.173010                         0   \n",
       "222629              0.015724  0.055363                         0   \n",
       "343612              0.209310  0.743945                         1   \n",
       "\n",
       "        vehicle_age_between_1_2_years  vehicle_age_over_2_years  response  \\\n",
       "270323                              1                         0         0   \n",
       "152919                              1                         0         0   \n",
       "350316                              1                         0         0   \n",
       "222629                              1                         0         0   \n",
       "343612                              0                         0         0   \n",
       "\n",
       "        score  \n",
       "270323    1.0  \n",
       "152919    1.0  \n",
       "350316    1.0  \n",
       "222629    1.0  \n",
       "343612    1.0  "
      ]
     },
     "execution_count": 78,
     "metadata": {},
     "output_type": "execute_result"
    }
   ],
   "source": [
    "df8.head()"
   ]
  },
  {
   "cell_type": "markdown",
   "id": "a93a4c3a",
   "metadata": {},
   "source": [
    "## "
   ]
  },
  {
   "cell_type": "code",
   "execution_count": null,
   "id": "b0694585",
   "metadata": {},
   "outputs": [],
   "source": []
  },
  {
   "cell_type": "markdown",
   "id": "2c76765c",
   "metadata": {},
   "source": [
    "## "
   ]
  },
  {
   "cell_type": "code",
   "execution_count": null,
   "id": "09dc805d",
   "metadata": {},
   "outputs": [],
   "source": []
  },
  {
   "cell_type": "code",
   "execution_count": null,
   "id": "c2fb6ddf",
   "metadata": {},
   "outputs": [],
   "source": []
  },
  {
   "cell_type": "markdown",
   "id": "816d3d92",
   "metadata": {},
   "source": [
    "## "
   ]
  },
  {
   "cell_type": "code",
   "execution_count": null,
   "id": "5147aef2",
   "metadata": {},
   "outputs": [],
   "source": []
  },
  {
   "cell_type": "code",
   "execution_count": null,
   "id": "bf7a2d3b",
   "metadata": {},
   "outputs": [],
   "source": []
  },
  {
   "cell_type": "markdown",
   "id": "40e54c68",
   "metadata": {},
   "source": [
    "## "
   ]
  },
  {
   "cell_type": "code",
   "execution_count": null,
   "id": "9764c302",
   "metadata": {},
   "outputs": [],
   "source": []
  },
  {
   "cell_type": "code",
   "execution_count": null,
   "id": "c1aa3dfa",
   "metadata": {},
   "outputs": [],
   "source": []
  },
  {
   "cell_type": "code",
   "execution_count": 52,
   "id": "14367a43",
   "metadata": {
    "ExecuteTime": {
     "end_time": "2022-05-14T22:28:58.612497Z",
     "start_time": "2022-05-14T22:28:58.611065Z"
    }
   },
   "outputs": [],
   "source": [
    "#ordenacao e o problema"
   ]
  },
  {
   "cell_type": "code",
   "execution_count": null,
   "id": "e4909891",
   "metadata": {},
   "outputs": [],
   "source": []
  }
 ],
 "metadata": {
  "kernelspec": {
   "display_name": "Python 3 (ipykernel)",
   "language": "python",
   "name": "python3"
  },
  "language_info": {
   "codemirror_mode": {
    "name": "ipython",
    "version": 3
   },
   "file_extension": ".py",
   "mimetype": "text/x-python",
   "name": "python",
   "nbconvert_exporter": "python",
   "pygments_lexer": "ipython3",
   "version": "3.9.7"
  }
 },
 "nbformat": 4,
 "nbformat_minor": 5
}
